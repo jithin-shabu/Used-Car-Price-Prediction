{
 "cells": [
  {
   "cell_type": "code",
   "execution_count": 120,
   "metadata": {},
   "outputs": [],
   "source": [
    "import pandas as pd"
   ]
  },
  {
   "cell_type": "code",
   "execution_count": 121,
   "metadata": {},
   "outputs": [
    {
     "data": {
      "text/html": [
       "<div>\n",
       "<style scoped>\n",
       "    .dataframe tbody tr th:only-of-type {\n",
       "        vertical-align: middle;\n",
       "    }\n",
       "\n",
       "    .dataframe tbody tr th {\n",
       "        vertical-align: top;\n",
       "    }\n",
       "\n",
       "    .dataframe thead th {\n",
       "        text-align: right;\n",
       "    }\n",
       "</style>\n",
       "<table border=\"1\" class=\"dataframe\">\n",
       "  <thead>\n",
       "    <tr style=\"text-align: right;\">\n",
       "      <th></th>\n",
       "      <th>Brand</th>\n",
       "      <th>model</th>\n",
       "      <th>Year</th>\n",
       "      <th>Age</th>\n",
       "      <th>kmDriven</th>\n",
       "      <th>Transmission</th>\n",
       "      <th>Owner</th>\n",
       "      <th>FuelType</th>\n",
       "      <th>PostedDate</th>\n",
       "      <th>AdditionInfo</th>\n",
       "      <th>AskPrice</th>\n",
       "    </tr>\n",
       "  </thead>\n",
       "  <tbody>\n",
       "    <tr>\n",
       "      <th>0</th>\n",
       "      <td>Honda</td>\n",
       "      <td>City</td>\n",
       "      <td>2001</td>\n",
       "      <td>23</td>\n",
       "      <td>98,000 km</td>\n",
       "      <td>Manual</td>\n",
       "      <td>second</td>\n",
       "      <td>Petrol</td>\n",
       "      <td>Nov-24</td>\n",
       "      <td>Honda City v teck in mint condition, valid gen...</td>\n",
       "      <td>₹ 1,95,000</td>\n",
       "    </tr>\n",
       "    <tr>\n",
       "      <th>1</th>\n",
       "      <td>Toyota</td>\n",
       "      <td>Innova</td>\n",
       "      <td>2009</td>\n",
       "      <td>15</td>\n",
       "      <td>190000.0 km</td>\n",
       "      <td>Manual</td>\n",
       "      <td>second</td>\n",
       "      <td>Diesel</td>\n",
       "      <td>Jul-24</td>\n",
       "      <td>Toyota Innova 2.5 G (Diesel) 7 Seater, 2009, D...</td>\n",
       "      <td>₹ 3,75,000</td>\n",
       "    </tr>\n",
       "    <tr>\n",
       "      <th>2</th>\n",
       "      <td>Volkswagen</td>\n",
       "      <td>VentoTest</td>\n",
       "      <td>2010</td>\n",
       "      <td>14</td>\n",
       "      <td>77,246 km</td>\n",
       "      <td>Manual</td>\n",
       "      <td>first</td>\n",
       "      <td>Diesel</td>\n",
       "      <td>Nov-24</td>\n",
       "      <td>Volkswagen Vento 2010-2013 Diesel Breeze, 2010...</td>\n",
       "      <td>₹ 1,84,999</td>\n",
       "    </tr>\n",
       "    <tr>\n",
       "      <th>3</th>\n",
       "      <td>Maruti Suzuki</td>\n",
       "      <td>Swift</td>\n",
       "      <td>2017</td>\n",
       "      <td>7</td>\n",
       "      <td>83,500 km</td>\n",
       "      <td>Manual</td>\n",
       "      <td>second</td>\n",
       "      <td>Diesel</td>\n",
       "      <td>Nov-24</td>\n",
       "      <td>Maruti Suzuki Swift 2017 Diesel Good Condition</td>\n",
       "      <td>₹ 5,65,000</td>\n",
       "    </tr>\n",
       "    <tr>\n",
       "      <th>4</th>\n",
       "      <td>Maruti Suzuki</td>\n",
       "      <td>Baleno</td>\n",
       "      <td>2019</td>\n",
       "      <td>5</td>\n",
       "      <td>45,000 km</td>\n",
       "      <td>Automatic</td>\n",
       "      <td>first</td>\n",
       "      <td>Petrol</td>\n",
       "      <td>Nov-24</td>\n",
       "      <td>Maruti Suzuki Baleno Alpha CVT, 2019, Petrol</td>\n",
       "      <td>₹ 6,85,000</td>\n",
       "    </tr>\n",
       "  </tbody>\n",
       "</table>\n",
       "</div>"
      ],
      "text/plain": [
       "           Brand      model  Year  Age     kmDriven Transmission   Owner  \\\n",
       "0          Honda       City  2001   23    98,000 km       Manual  second   \n",
       "1         Toyota     Innova  2009   15  190000.0 km       Manual  second   \n",
       "2     Volkswagen  VentoTest  2010   14    77,246 km       Manual   first   \n",
       "3  Maruti Suzuki      Swift  2017    7    83,500 km       Manual  second   \n",
       "4  Maruti Suzuki     Baleno  2019    5    45,000 km    Automatic   first   \n",
       "\n",
       "  FuelType PostedDate                                       AdditionInfo  \\\n",
       "0   Petrol     Nov-24  Honda City v teck in mint condition, valid gen...   \n",
       "1   Diesel     Jul-24  Toyota Innova 2.5 G (Diesel) 7 Seater, 2009, D...   \n",
       "2   Diesel     Nov-24  Volkswagen Vento 2010-2013 Diesel Breeze, 2010...   \n",
       "3   Diesel     Nov-24     Maruti Suzuki Swift 2017 Diesel Good Condition   \n",
       "4   Petrol     Nov-24       Maruti Suzuki Baleno Alpha CVT, 2019, Petrol   \n",
       "\n",
       "     AskPrice  \n",
       "0  ₹ 1,95,000  \n",
       "1  ₹ 3,75,000  \n",
       "2  ₹ 1,84,999  \n",
       "3  ₹ 5,65,000  \n",
       "4  ₹ 6,85,000  "
      ]
     },
     "execution_count": 121,
     "metadata": {},
     "output_type": "execute_result"
    }
   ],
   "source": [
    "usedCar_df = pd.read_csv('used_car_dataset.csv')\n",
    "usedCar_df.head()"
   ]
  },
  {
   "cell_type": "code",
   "execution_count": 122,
   "metadata": {},
   "outputs": [
    {
     "data": {
      "text/plain": [
       "(9582, 11)"
      ]
     },
     "execution_count": 122,
     "metadata": {},
     "output_type": "execute_result"
    }
   ],
   "source": [
    "usedCar_df.shape"
   ]
  },
  {
   "cell_type": "code",
   "execution_count": 123,
   "metadata": {},
   "outputs": [
    {
     "name": "stdout",
     "output_type": "stream",
     "text": [
      "<class 'pandas.core.frame.DataFrame'>\n",
      "RangeIndex: 9582 entries, 0 to 9581\n",
      "Data columns (total 11 columns):\n",
      " #   Column        Non-Null Count  Dtype \n",
      "---  ------        --------------  ----- \n",
      " 0   Brand         9582 non-null   object\n",
      " 1   model         9582 non-null   object\n",
      " 2   Year          9582 non-null   int64 \n",
      " 3   Age           9582 non-null   int64 \n",
      " 4   kmDriven      9535 non-null   object\n",
      " 5   Transmission  9582 non-null   object\n",
      " 6   Owner         9582 non-null   object\n",
      " 7   FuelType      9582 non-null   object\n",
      " 8   PostedDate    9582 non-null   object\n",
      " 9   AdditionInfo  9582 non-null   object\n",
      " 10  AskPrice      9582 non-null   object\n",
      "dtypes: int64(2), object(9)\n",
      "memory usage: 823.6+ KB\n"
     ]
    }
   ],
   "source": [
    "usedCar_df.info()"
   ]
  },
  {
   "cell_type": "code",
   "execution_count": 124,
   "metadata": {},
   "outputs": [
    {
     "data": {
      "text/plain": [
       "array([2001, 2009, 2010, 2017, 2019, 2014, 2020, 2018, 2021, 2012, 2007,\n",
       "       2016, 2015, 2023, 2011, 2022, 2013, 2006, 2005, 2024, 1998, 2008,\n",
       "       2004, 1994, 2002, 2003, 1997, 2000, 1990, 1996, 1999, 1986])"
      ]
     },
     "execution_count": 124,
     "metadata": {},
     "output_type": "execute_result"
    }
   ],
   "source": [
    "usedCar_df['Year'].unique()"
   ]
  },
  {
   "cell_type": "code",
   "execution_count": 125,
   "metadata": {},
   "outputs": [
    {
     "data": {
      "text/plain": [
       "0       False\n",
       "1       False\n",
       "2       False\n",
       "3       False\n",
       "4       False\n",
       "        ...  \n",
       "9577    False\n",
       "9578    False\n",
       "9579    False\n",
       "9580    False\n",
       "9581    False\n",
       "Name: AskPrice, Length: 9582, dtype: bool"
      ]
     },
     "execution_count": 125,
     "metadata": {},
     "output_type": "execute_result"
    }
   ],
   "source": [
    "usedCar_df['AskPrice'].isnull()\n"
   ]
  },
  {
   "cell_type": "code",
   "execution_count": 126,
   "metadata": {},
   "outputs": [
    {
     "data": {
      "text/plain": [
       "0         98,000 km\n",
       "1       190000.0 km\n",
       "2         77,246 km\n",
       "3         83,500 km\n",
       "4         45,000 km\n",
       "           ...     \n",
       "9577     105,904 km\n",
       "9578      55,000 km\n",
       "9579      92,000 km\n",
       "9580      72,000 km\n",
       "9581      83,228 km\n",
       "Name: kmDriven, Length: 9582, dtype: object"
      ]
     },
     "execution_count": 126,
     "metadata": {},
     "output_type": "execute_result"
    }
   ],
   "source": [
    "usedCar_df['kmDriven']"
   ]
  },
  {
   "cell_type": "markdown",
   "metadata": {},
   "source": [
    "Remove kms "
   ]
  },
  {
   "cell_type": "code",
   "execution_count": 127,
   "metadata": {},
   "outputs": [
    {
     "data": {
      "text/plain": [
       "array(['Petrol', 'Diesel', 'Hybrid/CNG'], dtype=object)"
      ]
     },
     "execution_count": 127,
     "metadata": {},
     "output_type": "execute_result"
    }
   ],
   "source": [
    "usedCar_df['FuelType'].unique()"
   ]
  },
  {
   "cell_type": "code",
   "execution_count": 128,
   "metadata": {},
   "outputs": [
    {
     "name": "stdout",
     "output_type": "stream",
     "text": [
      "<class 'pandas.core.series.Series'>\n",
      "RangeIndex: 9582 entries, 0 to 9581\n",
      "Series name: Year\n",
      "Non-Null Count  Dtype\n",
      "--------------  -----\n",
      "9582 non-null   int64\n",
      "dtypes: int64(1)\n",
      "memory usage: 75.0 KB\n"
     ]
    }
   ],
   "source": [
    "usedCar_df['Year'].info()"
   ]
  },
  {
   "cell_type": "code",
   "execution_count": 129,
   "metadata": {},
   "outputs": [
    {
     "data": {
      "text/plain": [
       "0        ₹ 1,95,000\n",
       "1        ₹ 3,75,000\n",
       "2        ₹ 1,84,999\n",
       "3        ₹ 5,65,000\n",
       "4        ₹ 6,85,000\n",
       "           ...     \n",
       "9577    ₹ 10,40,000\n",
       "9578     ₹ 3,75,000\n",
       "9579     ₹ 4,15,000\n",
       "9580     ₹ 8,55,000\n",
       "9581     ₹ 6,99,000\n",
       "Name: AskPrice, Length: 9582, dtype: object"
      ]
     },
     "execution_count": 129,
     "metadata": {},
     "output_type": "execute_result"
    }
   ],
   "source": [
    "usedCar_df['AskPrice']  ### remove ',' and  '₹'"
   ]
  },
  {
   "cell_type": "code",
   "execution_count": 130,
   "metadata": {},
   "outputs": [],
   "source": [
    "usedCar_df['AskPrice']=usedCar_df['AskPrice'].str.replace(',','')"
   ]
  },
  {
   "cell_type": "code",
   "execution_count": 131,
   "metadata": {},
   "outputs": [
    {
     "data": {
      "text/plain": [
       "0        ₹ 195000\n",
       "1        ₹ 375000\n",
       "2        ₹ 184999\n",
       "3        ₹ 565000\n",
       "4        ₹ 685000\n",
       "          ...    \n",
       "9577    ₹ 1040000\n",
       "9578     ₹ 375000\n",
       "9579     ₹ 415000\n",
       "9580     ₹ 855000\n",
       "9581     ₹ 699000\n",
       "Name: AskPrice, Length: 9582, dtype: object"
      ]
     },
     "execution_count": 131,
     "metadata": {},
     "output_type": "execute_result"
    }
   ],
   "source": [
    "usedCar_df['AskPrice']"
   ]
  },
  {
   "cell_type": "code",
   "execution_count": 132,
   "metadata": {},
   "outputs": [],
   "source": [
    "usedCar_df['AskPrice']=usedCar_df['AskPrice'].str.replace('₹','').astype(int)\n"
   ]
  },
  {
   "cell_type": "code",
   "execution_count": 133,
   "metadata": {},
   "outputs": [
    {
     "data": {
      "text/plain": [
       "0        195000\n",
       "1        375000\n",
       "2        184999\n",
       "3        565000\n",
       "4        685000\n",
       "         ...   \n",
       "9577    1040000\n",
       "9578     375000\n",
       "9579     415000\n",
       "9580     855000\n",
       "9581     699000\n",
       "Name: AskPrice, Length: 9582, dtype: int64"
      ]
     },
     "execution_count": 133,
     "metadata": {},
     "output_type": "execute_result"
    }
   ],
   "source": [
    "usedCar_df['AskPrice']"
   ]
  },
  {
   "cell_type": "code",
   "execution_count": 134,
   "metadata": {},
   "outputs": [
    {
     "name": "stdout",
     "output_type": "stream",
     "text": [
      "<class 'pandas.core.frame.DataFrame'>\n",
      "RangeIndex: 9582 entries, 0 to 9581\n",
      "Data columns (total 11 columns):\n",
      " #   Column        Non-Null Count  Dtype \n",
      "---  ------        --------------  ----- \n",
      " 0   Brand         9582 non-null   object\n",
      " 1   model         9582 non-null   object\n",
      " 2   Year          9582 non-null   int64 \n",
      " 3   Age           9582 non-null   int64 \n",
      " 4   kmDriven      9535 non-null   object\n",
      " 5   Transmission  9582 non-null   object\n",
      " 6   Owner         9582 non-null   object\n",
      " 7   FuelType      9582 non-null   object\n",
      " 8   PostedDate    9582 non-null   object\n",
      " 9   AdditionInfo  9582 non-null   object\n",
      " 10  AskPrice      9582 non-null   int64 \n",
      "dtypes: int64(3), object(8)\n",
      "memory usage: 823.6+ KB\n"
     ]
    }
   ],
   "source": [
    "usedCar_df.info()"
   ]
  },
  {
   "cell_type": "code",
   "execution_count": 135,
   "metadata": {},
   "outputs": [
    {
     "data": {
      "text/plain": [
       "0         98,000 km\n",
       "1       190000.0 km\n",
       "2         77,246 km\n",
       "3         83,500 km\n",
       "4         45,000 km\n",
       "           ...     \n",
       "9577     105,904 km\n",
       "9578      55,000 km\n",
       "9579      92,000 km\n",
       "9580      72,000 km\n",
       "9581      83,228 km\n",
       "Name: kmDriven, Length: 9582, dtype: object"
      ]
     },
     "execution_count": 135,
     "metadata": {},
     "output_type": "execute_result"
    }
   ],
   "source": [
    "usedCar_df['kmDriven']"
   ]
  },
  {
   "cell_type": "code",
   "execution_count": 136,
   "metadata": {},
   "outputs": [],
   "source": [
    "usedCar_df['kmDriven']= usedCar_df['kmDriven'].str.replace(' km','')"
   ]
  },
  {
   "cell_type": "code",
   "execution_count": 137,
   "metadata": {},
   "outputs": [
    {
     "data": {
      "text/plain": [
       "0         98,000\n",
       "1       190000.0\n",
       "2         77,246\n",
       "3         83,500\n",
       "4         45,000\n",
       "          ...   \n",
       "9577     105,904\n",
       "9578      55,000\n",
       "9579      92,000\n",
       "9580      72,000\n",
       "9581      83,228\n",
       "Name: kmDriven, Length: 9582, dtype: object"
      ]
     },
     "execution_count": 137,
     "metadata": {},
     "output_type": "execute_result"
    }
   ],
   "source": [
    "usedCar_df['kmDriven']"
   ]
  },
  {
   "cell_type": "code",
   "execution_count": 138,
   "metadata": {},
   "outputs": [],
   "source": [
    "usedCar_df['kmDriven']= usedCar_df['kmDriven'].str.replace(' ,','')"
   ]
  },
  {
   "cell_type": "code",
   "execution_count": 139,
   "metadata": {},
   "outputs": [
    {
     "data": {
      "text/plain": [
       "0         98,000\n",
       "1       190000.0\n",
       "2         77,246\n",
       "3         83,500\n",
       "4         45,000\n",
       "          ...   \n",
       "9577     105,904\n",
       "9578      55,000\n",
       "9579      92,000\n",
       "9580      72,000\n",
       "9581      83,228\n",
       "Name: kmDriven, Length: 9582, dtype: object"
      ]
     },
     "execution_count": 139,
     "metadata": {},
     "output_type": "execute_result"
    }
   ],
   "source": [
    "usedCar_df['kmDriven']"
   ]
  },
  {
   "cell_type": "code",
   "execution_count": 140,
   "metadata": {},
   "outputs": [],
   "source": [
    "usedCar_df['kmDriven'] = pd.to_numeric(usedCar_df['kmDriven'],errors='coerce')"
   ]
  },
  {
   "cell_type": "code",
   "execution_count": 141,
   "metadata": {},
   "outputs": [
    {
     "data": {
      "text/plain": [
       "0            NaN\n",
       "1       190000.0\n",
       "2            NaN\n",
       "3            NaN\n",
       "4            NaN\n",
       "          ...   \n",
       "9577         NaN\n",
       "9578         NaN\n",
       "9579         NaN\n",
       "9580         NaN\n",
       "9581         NaN\n",
       "Name: kmDriven, Length: 9582, dtype: float64"
      ]
     },
     "execution_count": 141,
     "metadata": {},
     "output_type": "execute_result"
    }
   ],
   "source": [
    "usedCar_df['kmDriven']\n"
   ]
  },
  {
   "cell_type": "code",
   "execution_count": 142,
   "metadata": {},
   "outputs": [
    {
     "ename": "IntCastingNaNError",
     "evalue": "Cannot convert non-finite values (NA or inf) to integer",
     "output_type": "error",
     "traceback": [
      "\u001b[0;31m---------------------------------------------------------------------------\u001b[0m",
      "\u001b[0;31mIntCastingNaNError\u001b[0m                        Traceback (most recent call last)",
      "Cell \u001b[0;32mIn[142], line 1\u001b[0m\n\u001b[0;32m----> 1\u001b[0m usedCar_df[\u001b[38;5;124m'\u001b[39m\u001b[38;5;124mkmDriven\u001b[39m\u001b[38;5;124m'\u001b[39m] \u001b[38;5;241m=\u001b[39m usedCar_df[\u001b[38;5;124m'\u001b[39m\u001b[38;5;124mkmDriven\u001b[39m\u001b[38;5;124m'\u001b[39m]\u001b[38;5;241m.\u001b[39mastype(\u001b[38;5;28mint\u001b[39m)\n",
      "File \u001b[0;32m~/anaconda3/lib/python3.12/site-packages/pandas/core/generic.py:6643\u001b[0m, in \u001b[0;36mNDFrame.astype\u001b[0;34m(self, dtype, copy, errors)\u001b[0m\n\u001b[1;32m   6637\u001b[0m     results \u001b[38;5;241m=\u001b[39m [\n\u001b[1;32m   6638\u001b[0m         ser\u001b[38;5;241m.\u001b[39mastype(dtype, copy\u001b[38;5;241m=\u001b[39mcopy, errors\u001b[38;5;241m=\u001b[39merrors) \u001b[38;5;28;01mfor\u001b[39;00m _, ser \u001b[38;5;129;01min\u001b[39;00m \u001b[38;5;28mself\u001b[39m\u001b[38;5;241m.\u001b[39mitems()\n\u001b[1;32m   6639\u001b[0m     ]\n\u001b[1;32m   6641\u001b[0m \u001b[38;5;28;01melse\u001b[39;00m:\n\u001b[1;32m   6642\u001b[0m     \u001b[38;5;66;03m# else, only a single dtype is given\u001b[39;00m\n\u001b[0;32m-> 6643\u001b[0m     new_data \u001b[38;5;241m=\u001b[39m \u001b[38;5;28mself\u001b[39m\u001b[38;5;241m.\u001b[39m_mgr\u001b[38;5;241m.\u001b[39mastype(dtype\u001b[38;5;241m=\u001b[39mdtype, copy\u001b[38;5;241m=\u001b[39mcopy, errors\u001b[38;5;241m=\u001b[39merrors)\n\u001b[1;32m   6644\u001b[0m     res \u001b[38;5;241m=\u001b[39m \u001b[38;5;28mself\u001b[39m\u001b[38;5;241m.\u001b[39m_constructor_from_mgr(new_data, axes\u001b[38;5;241m=\u001b[39mnew_data\u001b[38;5;241m.\u001b[39maxes)\n\u001b[1;32m   6645\u001b[0m     \u001b[38;5;28;01mreturn\u001b[39;00m res\u001b[38;5;241m.\u001b[39m__finalize__(\u001b[38;5;28mself\u001b[39m, method\u001b[38;5;241m=\u001b[39m\u001b[38;5;124m\"\u001b[39m\u001b[38;5;124mastype\u001b[39m\u001b[38;5;124m\"\u001b[39m)\n",
      "File \u001b[0;32m~/anaconda3/lib/python3.12/site-packages/pandas/core/internals/managers.py:430\u001b[0m, in \u001b[0;36mBaseBlockManager.astype\u001b[0;34m(self, dtype, copy, errors)\u001b[0m\n\u001b[1;32m    427\u001b[0m \u001b[38;5;28;01melif\u001b[39;00m using_copy_on_write():\n\u001b[1;32m    428\u001b[0m     copy \u001b[38;5;241m=\u001b[39m \u001b[38;5;28;01mFalse\u001b[39;00m\n\u001b[0;32m--> 430\u001b[0m \u001b[38;5;28;01mreturn\u001b[39;00m \u001b[38;5;28mself\u001b[39m\u001b[38;5;241m.\u001b[39mapply(\n\u001b[1;32m    431\u001b[0m     \u001b[38;5;124m\"\u001b[39m\u001b[38;5;124mastype\u001b[39m\u001b[38;5;124m\"\u001b[39m,\n\u001b[1;32m    432\u001b[0m     dtype\u001b[38;5;241m=\u001b[39mdtype,\n\u001b[1;32m    433\u001b[0m     copy\u001b[38;5;241m=\u001b[39mcopy,\n\u001b[1;32m    434\u001b[0m     errors\u001b[38;5;241m=\u001b[39merrors,\n\u001b[1;32m    435\u001b[0m     using_cow\u001b[38;5;241m=\u001b[39musing_copy_on_write(),\n\u001b[1;32m    436\u001b[0m )\n",
      "File \u001b[0;32m~/anaconda3/lib/python3.12/site-packages/pandas/core/internals/managers.py:363\u001b[0m, in \u001b[0;36mBaseBlockManager.apply\u001b[0;34m(self, f, align_keys, **kwargs)\u001b[0m\n\u001b[1;32m    361\u001b[0m         applied \u001b[38;5;241m=\u001b[39m b\u001b[38;5;241m.\u001b[39mapply(f, \u001b[38;5;241m*\u001b[39m\u001b[38;5;241m*\u001b[39mkwargs)\n\u001b[1;32m    362\u001b[0m     \u001b[38;5;28;01melse\u001b[39;00m:\n\u001b[0;32m--> 363\u001b[0m         applied \u001b[38;5;241m=\u001b[39m \u001b[38;5;28mgetattr\u001b[39m(b, f)(\u001b[38;5;241m*\u001b[39m\u001b[38;5;241m*\u001b[39mkwargs)\n\u001b[1;32m    364\u001b[0m     result_blocks \u001b[38;5;241m=\u001b[39m extend_blocks(applied, result_blocks)\n\u001b[1;32m    366\u001b[0m out \u001b[38;5;241m=\u001b[39m \u001b[38;5;28mtype\u001b[39m(\u001b[38;5;28mself\u001b[39m)\u001b[38;5;241m.\u001b[39mfrom_blocks(result_blocks, \u001b[38;5;28mself\u001b[39m\u001b[38;5;241m.\u001b[39maxes)\n",
      "File \u001b[0;32m~/anaconda3/lib/python3.12/site-packages/pandas/core/internals/blocks.py:758\u001b[0m, in \u001b[0;36mBlock.astype\u001b[0;34m(self, dtype, copy, errors, using_cow, squeeze)\u001b[0m\n\u001b[1;32m    755\u001b[0m         \u001b[38;5;28;01mraise\u001b[39;00m \u001b[38;5;167;01mValueError\u001b[39;00m(\u001b[38;5;124m\"\u001b[39m\u001b[38;5;124mCan not squeeze with more than one column.\u001b[39m\u001b[38;5;124m\"\u001b[39m)\n\u001b[1;32m    756\u001b[0m     values \u001b[38;5;241m=\u001b[39m values[\u001b[38;5;241m0\u001b[39m, :]  \u001b[38;5;66;03m# type: ignore[call-overload]\u001b[39;00m\n\u001b[0;32m--> 758\u001b[0m new_values \u001b[38;5;241m=\u001b[39m astype_array_safe(values, dtype, copy\u001b[38;5;241m=\u001b[39mcopy, errors\u001b[38;5;241m=\u001b[39merrors)\n\u001b[1;32m    760\u001b[0m new_values \u001b[38;5;241m=\u001b[39m maybe_coerce_values(new_values)\n\u001b[1;32m    762\u001b[0m refs \u001b[38;5;241m=\u001b[39m \u001b[38;5;28;01mNone\u001b[39;00m\n",
      "File \u001b[0;32m~/anaconda3/lib/python3.12/site-packages/pandas/core/dtypes/astype.py:237\u001b[0m, in \u001b[0;36mastype_array_safe\u001b[0;34m(values, dtype, copy, errors)\u001b[0m\n\u001b[1;32m    234\u001b[0m     dtype \u001b[38;5;241m=\u001b[39m dtype\u001b[38;5;241m.\u001b[39mnumpy_dtype\n\u001b[1;32m    236\u001b[0m \u001b[38;5;28;01mtry\u001b[39;00m:\n\u001b[0;32m--> 237\u001b[0m     new_values \u001b[38;5;241m=\u001b[39m astype_array(values, dtype, copy\u001b[38;5;241m=\u001b[39mcopy)\n\u001b[1;32m    238\u001b[0m \u001b[38;5;28;01mexcept\u001b[39;00m (\u001b[38;5;167;01mValueError\u001b[39;00m, \u001b[38;5;167;01mTypeError\u001b[39;00m):\n\u001b[1;32m    239\u001b[0m     \u001b[38;5;66;03m# e.g. _astype_nansafe can fail on object-dtype of strings\u001b[39;00m\n\u001b[1;32m    240\u001b[0m     \u001b[38;5;66;03m#  trying to convert to float\u001b[39;00m\n\u001b[1;32m    241\u001b[0m     \u001b[38;5;28;01mif\u001b[39;00m errors \u001b[38;5;241m==\u001b[39m \u001b[38;5;124m\"\u001b[39m\u001b[38;5;124mignore\u001b[39m\u001b[38;5;124m\"\u001b[39m:\n",
      "File \u001b[0;32m~/anaconda3/lib/python3.12/site-packages/pandas/core/dtypes/astype.py:182\u001b[0m, in \u001b[0;36mastype_array\u001b[0;34m(values, dtype, copy)\u001b[0m\n\u001b[1;32m    179\u001b[0m     values \u001b[38;5;241m=\u001b[39m values\u001b[38;5;241m.\u001b[39mastype(dtype, copy\u001b[38;5;241m=\u001b[39mcopy)\n\u001b[1;32m    181\u001b[0m \u001b[38;5;28;01melse\u001b[39;00m:\n\u001b[0;32m--> 182\u001b[0m     values \u001b[38;5;241m=\u001b[39m _astype_nansafe(values, dtype, copy\u001b[38;5;241m=\u001b[39mcopy)\n\u001b[1;32m    184\u001b[0m \u001b[38;5;66;03m# in pandas we don't store numpy str dtypes, so convert to object\u001b[39;00m\n\u001b[1;32m    185\u001b[0m \u001b[38;5;28;01mif\u001b[39;00m \u001b[38;5;28misinstance\u001b[39m(dtype, np\u001b[38;5;241m.\u001b[39mdtype) \u001b[38;5;129;01mand\u001b[39;00m \u001b[38;5;28missubclass\u001b[39m(values\u001b[38;5;241m.\u001b[39mdtype\u001b[38;5;241m.\u001b[39mtype, \u001b[38;5;28mstr\u001b[39m):\n",
      "File \u001b[0;32m~/anaconda3/lib/python3.12/site-packages/pandas/core/dtypes/astype.py:101\u001b[0m, in \u001b[0;36m_astype_nansafe\u001b[0;34m(arr, dtype, copy, skipna)\u001b[0m\n\u001b[1;32m     96\u001b[0m     \u001b[38;5;28;01mreturn\u001b[39;00m lib\u001b[38;5;241m.\u001b[39mensure_string_array(\n\u001b[1;32m     97\u001b[0m         arr, skipna\u001b[38;5;241m=\u001b[39mskipna, convert_na_value\u001b[38;5;241m=\u001b[39m\u001b[38;5;28;01mFalse\u001b[39;00m\n\u001b[1;32m     98\u001b[0m     )\u001b[38;5;241m.\u001b[39mreshape(shape)\n\u001b[1;32m    100\u001b[0m \u001b[38;5;28;01melif\u001b[39;00m np\u001b[38;5;241m.\u001b[39missubdtype(arr\u001b[38;5;241m.\u001b[39mdtype, np\u001b[38;5;241m.\u001b[39mfloating) \u001b[38;5;129;01mand\u001b[39;00m dtype\u001b[38;5;241m.\u001b[39mkind \u001b[38;5;129;01min\u001b[39;00m \u001b[38;5;124m\"\u001b[39m\u001b[38;5;124miu\u001b[39m\u001b[38;5;124m\"\u001b[39m:\n\u001b[0;32m--> 101\u001b[0m     \u001b[38;5;28;01mreturn\u001b[39;00m _astype_float_to_int_nansafe(arr, dtype, copy)\n\u001b[1;32m    103\u001b[0m \u001b[38;5;28;01melif\u001b[39;00m arr\u001b[38;5;241m.\u001b[39mdtype \u001b[38;5;241m==\u001b[39m \u001b[38;5;28mobject\u001b[39m:\n\u001b[1;32m    104\u001b[0m     \u001b[38;5;66;03m# if we have a datetime/timedelta array of objects\u001b[39;00m\n\u001b[1;32m    105\u001b[0m     \u001b[38;5;66;03m# then coerce to datetime64[ns] and use DatetimeArray.astype\u001b[39;00m\n\u001b[1;32m    107\u001b[0m     \u001b[38;5;28;01mif\u001b[39;00m lib\u001b[38;5;241m.\u001b[39mis_np_dtype(dtype, \u001b[38;5;124m\"\u001b[39m\u001b[38;5;124mM\u001b[39m\u001b[38;5;124m\"\u001b[39m):\n",
      "File \u001b[0;32m~/anaconda3/lib/python3.12/site-packages/pandas/core/dtypes/astype.py:145\u001b[0m, in \u001b[0;36m_astype_float_to_int_nansafe\u001b[0;34m(values, dtype, copy)\u001b[0m\n\u001b[1;32m    141\u001b[0m \u001b[38;5;250m\u001b[39m\u001b[38;5;124;03m\"\"\"\u001b[39;00m\n\u001b[1;32m    142\u001b[0m \u001b[38;5;124;03mastype with a check preventing converting NaN to an meaningless integer value.\u001b[39;00m\n\u001b[1;32m    143\u001b[0m \u001b[38;5;124;03m\"\"\"\u001b[39;00m\n\u001b[1;32m    144\u001b[0m \u001b[38;5;28;01mif\u001b[39;00m \u001b[38;5;129;01mnot\u001b[39;00m np\u001b[38;5;241m.\u001b[39misfinite(values)\u001b[38;5;241m.\u001b[39mall():\n\u001b[0;32m--> 145\u001b[0m     \u001b[38;5;28;01mraise\u001b[39;00m IntCastingNaNError(\n\u001b[1;32m    146\u001b[0m         \u001b[38;5;124m\"\u001b[39m\u001b[38;5;124mCannot convert non-finite values (NA or inf) to integer\u001b[39m\u001b[38;5;124m\"\u001b[39m\n\u001b[1;32m    147\u001b[0m     )\n\u001b[1;32m    148\u001b[0m \u001b[38;5;28;01mif\u001b[39;00m dtype\u001b[38;5;241m.\u001b[39mkind \u001b[38;5;241m==\u001b[39m \u001b[38;5;124m\"\u001b[39m\u001b[38;5;124mu\u001b[39m\u001b[38;5;124m\"\u001b[39m:\n\u001b[1;32m    149\u001b[0m     \u001b[38;5;66;03m# GH#45151\u001b[39;00m\n\u001b[1;32m    150\u001b[0m     \u001b[38;5;28;01mif\u001b[39;00m \u001b[38;5;129;01mnot\u001b[39;00m (values \u001b[38;5;241m>\u001b[39m\u001b[38;5;241m=\u001b[39m \u001b[38;5;241m0\u001b[39m)\u001b[38;5;241m.\u001b[39mall():\n",
      "\u001b[0;31mIntCastingNaNError\u001b[0m: Cannot convert non-finite values (NA or inf) to integer"
     ]
    }
   ],
   "source": [
    "usedCar_df['kmDriven'] = usedCar_df['kmDriven'].astype(int)"
   ]
  },
  {
   "cell_type": "code",
   "execution_count": 165,
   "metadata": {},
   "outputs": [
    {
     "data": {
      "text/plain": [
       "0        98000\n",
       "1       190000\n",
       "2        77246\n",
       "3        83500\n",
       "4        45000\n",
       "         ...  \n",
       "9577    105904\n",
       "9578     55000\n",
       "9579     92000\n",
       "9580     72000\n",
       "9581     83228\n",
       "Name: kmDriven, Length: 9535, dtype: int64"
      ]
     },
     "execution_count": 165,
     "metadata": {},
     "output_type": "execute_result"
    }
   ],
   "source": [
    "usedCar_df['kmDriven']"
   ]
  },
  {
   "cell_type": "code",
   "execution_count": 168,
   "metadata": {},
   "outputs": [
    {
     "data": {
      "text/plain": [
       "Brand           0\n",
       "model           0\n",
       "Year            0\n",
       "Age             0\n",
       "kmDriven        0\n",
       "Transmission    0\n",
       "Owner           0\n",
       "FuelType        0\n",
       "PostedDate      0\n",
       "AdditionInfo    0\n",
       "AskPrice        0\n",
       "dtype: int64"
      ]
     },
     "execution_count": 168,
     "metadata": {},
     "output_type": "execute_result"
    }
   ],
   "source": [
    "usedCar_df.isnull().sum()"
   ]
  },
  {
   "cell_type": "code",
   "execution_count": 169,
   "metadata": {},
   "outputs": [
    {
     "data": {
      "text/html": [
       "<div>\n",
       "<style scoped>\n",
       "    .dataframe tbody tr th:only-of-type {\n",
       "        vertical-align: middle;\n",
       "    }\n",
       "\n",
       "    .dataframe tbody tr th {\n",
       "        vertical-align: top;\n",
       "    }\n",
       "\n",
       "    .dataframe thead th {\n",
       "        text-align: right;\n",
       "    }\n",
       "</style>\n",
       "<table border=\"1\" class=\"dataframe\">\n",
       "  <thead>\n",
       "    <tr style=\"text-align: right;\">\n",
       "      <th></th>\n",
       "      <th>Brand</th>\n",
       "      <th>model</th>\n",
       "      <th>Year</th>\n",
       "      <th>Age</th>\n",
       "      <th>kmDriven</th>\n",
       "      <th>Transmission</th>\n",
       "      <th>Owner</th>\n",
       "      <th>FuelType</th>\n",
       "      <th>PostedDate</th>\n",
       "      <th>AdditionInfo</th>\n",
       "      <th>AskPrice</th>\n",
       "    </tr>\n",
       "  </thead>\n",
       "  <tbody>\n",
       "    <tr>\n",
       "      <th>0</th>\n",
       "      <td>Honda</td>\n",
       "      <td>City</td>\n",
       "      <td>2001</td>\n",
       "      <td>23</td>\n",
       "      <td>98000</td>\n",
       "      <td>Manual</td>\n",
       "      <td>second</td>\n",
       "      <td>Petrol</td>\n",
       "      <td>Nov-24</td>\n",
       "      <td>Honda City v teck in mint condition, valid gen...</td>\n",
       "      <td>195000</td>\n",
       "    </tr>\n",
       "    <tr>\n",
       "      <th>1</th>\n",
       "      <td>Toyota</td>\n",
       "      <td>Innova</td>\n",
       "      <td>2009</td>\n",
       "      <td>15</td>\n",
       "      <td>190000</td>\n",
       "      <td>Manual</td>\n",
       "      <td>second</td>\n",
       "      <td>Diesel</td>\n",
       "      <td>Jul-24</td>\n",
       "      <td>Toyota Innova 2.5 G (Diesel) 7 Seater, 2009, D...</td>\n",
       "      <td>375000</td>\n",
       "    </tr>\n",
       "    <tr>\n",
       "      <th>2</th>\n",
       "      <td>Volkswagen</td>\n",
       "      <td>VentoTest</td>\n",
       "      <td>2010</td>\n",
       "      <td>14</td>\n",
       "      <td>77246</td>\n",
       "      <td>Manual</td>\n",
       "      <td>first</td>\n",
       "      <td>Diesel</td>\n",
       "      <td>Nov-24</td>\n",
       "      <td>Volkswagen Vento 2010-2013 Diesel Breeze, 2010...</td>\n",
       "      <td>184999</td>\n",
       "    </tr>\n",
       "    <tr>\n",
       "      <th>3</th>\n",
       "      <td>Maruti Suzuki</td>\n",
       "      <td>Swift</td>\n",
       "      <td>2017</td>\n",
       "      <td>7</td>\n",
       "      <td>83500</td>\n",
       "      <td>Manual</td>\n",
       "      <td>second</td>\n",
       "      <td>Diesel</td>\n",
       "      <td>Nov-24</td>\n",
       "      <td>Maruti Suzuki Swift 2017 Diesel Good Condition</td>\n",
       "      <td>565000</td>\n",
       "    </tr>\n",
       "    <tr>\n",
       "      <th>4</th>\n",
       "      <td>Maruti Suzuki</td>\n",
       "      <td>Baleno</td>\n",
       "      <td>2019</td>\n",
       "      <td>5</td>\n",
       "      <td>45000</td>\n",
       "      <td>Automatic</td>\n",
       "      <td>first</td>\n",
       "      <td>Petrol</td>\n",
       "      <td>Nov-24</td>\n",
       "      <td>Maruti Suzuki Baleno Alpha CVT, 2019, Petrol</td>\n",
       "      <td>685000</td>\n",
       "    </tr>\n",
       "    <tr>\n",
       "      <th>...</th>\n",
       "      <td>...</td>\n",
       "      <td>...</td>\n",
       "      <td>...</td>\n",
       "      <td>...</td>\n",
       "      <td>...</td>\n",
       "      <td>...</td>\n",
       "      <td>...</td>\n",
       "      <td>...</td>\n",
       "      <td>...</td>\n",
       "      <td>...</td>\n",
       "      <td>...</td>\n",
       "    </tr>\n",
       "    <tr>\n",
       "      <th>9577</th>\n",
       "      <td>Skoda</td>\n",
       "      <td>Octavia</td>\n",
       "      <td>2014</td>\n",
       "      <td>10</td>\n",
       "      <td>105904</td>\n",
       "      <td>Automatic</td>\n",
       "      <td>second</td>\n",
       "      <td>Diesel</td>\n",
       "      <td>Oct-24</td>\n",
       "      <td>Skoda Octavia 1.9 Elegance TDI, 2014, Diesel</td>\n",
       "      <td>1040000</td>\n",
       "    </tr>\n",
       "    <tr>\n",
       "      <th>9578</th>\n",
       "      <td>Maruti Suzuki</td>\n",
       "      <td>Alto-800</td>\n",
       "      <td>2020</td>\n",
       "      <td>4</td>\n",
       "      <td>55000</td>\n",
       "      <td>Manual</td>\n",
       "      <td>first</td>\n",
       "      <td>Hybrid/CNG</td>\n",
       "      <td>Nov-24</td>\n",
       "      <td>Maruti Suzuki Alto 800 CNG LXI Optional, 2020,...</td>\n",
       "      <td>375000</td>\n",
       "    </tr>\n",
       "    <tr>\n",
       "      <th>9579</th>\n",
       "      <td>Maruti Suzuki</td>\n",
       "      <td>Ritz</td>\n",
       "      <td>2013</td>\n",
       "      <td>11</td>\n",
       "      <td>92000</td>\n",
       "      <td>Manual</td>\n",
       "      <td>first</td>\n",
       "      <td>Diesel</td>\n",
       "      <td>Nov-24</td>\n",
       "      <td>Maruti Suzuki Ritz VDi, 2013, Diesel</td>\n",
       "      <td>415000</td>\n",
       "    </tr>\n",
       "    <tr>\n",
       "      <th>9580</th>\n",
       "      <td>Hyundai</td>\n",
       "      <td>Verna</td>\n",
       "      <td>2019</td>\n",
       "      <td>5</td>\n",
       "      <td>72000</td>\n",
       "      <td>Automatic</td>\n",
       "      <td>first</td>\n",
       "      <td>Petrol</td>\n",
       "      <td>Oct-24</td>\n",
       "      <td>Hyundai Verna VTVT 1.6 AT SX Option, 2019, Petrol</td>\n",
       "      <td>855000</td>\n",
       "    </tr>\n",
       "    <tr>\n",
       "      <th>9581</th>\n",
       "      <td>Hyundai</td>\n",
       "      <td>New i20</td>\n",
       "      <td>2021</td>\n",
       "      <td>3</td>\n",
       "      <td>83228</td>\n",
       "      <td>Manual</td>\n",
       "      <td>second</td>\n",
       "      <td>Petrol</td>\n",
       "      <td>Nov-24</td>\n",
       "      <td>Hyundai New i20 1.2 Asta IVT, 2021, Petrol</td>\n",
       "      <td>699000</td>\n",
       "    </tr>\n",
       "  </tbody>\n",
       "</table>\n",
       "<p>9535 rows × 11 columns</p>\n",
       "</div>"
      ],
      "text/plain": [
       "              Brand      model  Year  Age  kmDriven Transmission   Owner  \\\n",
       "0             Honda       City  2001   23     98000       Manual  second   \n",
       "1            Toyota     Innova  2009   15    190000       Manual  second   \n",
       "2        Volkswagen  VentoTest  2010   14     77246       Manual   first   \n",
       "3     Maruti Suzuki      Swift  2017    7     83500       Manual  second   \n",
       "4     Maruti Suzuki     Baleno  2019    5     45000    Automatic   first   \n",
       "...             ...        ...   ...  ...       ...          ...     ...   \n",
       "9577          Skoda    Octavia  2014   10    105904    Automatic  second   \n",
       "9578  Maruti Suzuki   Alto-800  2020    4     55000       Manual   first   \n",
       "9579  Maruti Suzuki       Ritz  2013   11     92000       Manual   first   \n",
       "9580        Hyundai      Verna  2019    5     72000    Automatic   first   \n",
       "9581        Hyundai    New i20  2021    3     83228       Manual  second   \n",
       "\n",
       "        FuelType PostedDate  \\\n",
       "0         Petrol     Nov-24   \n",
       "1         Diesel     Jul-24   \n",
       "2         Diesel     Nov-24   \n",
       "3         Diesel     Nov-24   \n",
       "4         Petrol     Nov-24   \n",
       "...          ...        ...   \n",
       "9577      Diesel     Oct-24   \n",
       "9578  Hybrid/CNG     Nov-24   \n",
       "9579      Diesel     Nov-24   \n",
       "9580      Petrol     Oct-24   \n",
       "9581      Petrol     Nov-24   \n",
       "\n",
       "                                           AdditionInfo  AskPrice  \n",
       "0     Honda City v teck in mint condition, valid gen...    195000  \n",
       "1     Toyota Innova 2.5 G (Diesel) 7 Seater, 2009, D...    375000  \n",
       "2     Volkswagen Vento 2010-2013 Diesel Breeze, 2010...    184999  \n",
       "3        Maruti Suzuki Swift 2017 Diesel Good Condition    565000  \n",
       "4          Maruti Suzuki Baleno Alpha CVT, 2019, Petrol    685000  \n",
       "...                                                 ...       ...  \n",
       "9577       Skoda Octavia 1.9 Elegance TDI, 2014, Diesel   1040000  \n",
       "9578  Maruti Suzuki Alto 800 CNG LXI Optional, 2020,...    375000  \n",
       "9579               Maruti Suzuki Ritz VDi, 2013, Diesel    415000  \n",
       "9580  Hyundai Verna VTVT 1.6 AT SX Option, 2019, Petrol    855000  \n",
       "9581         Hyundai New i20 1.2 Asta IVT, 2021, Petrol    699000  \n",
       "\n",
       "[9535 rows x 11 columns]"
      ]
     },
     "execution_count": 169,
     "metadata": {},
     "output_type": "execute_result"
    }
   ],
   "source": [
    "usedCar_df\n"
   ]
  },
  {
   "cell_type": "code",
   "execution_count": 171,
   "metadata": {},
   "outputs": [
    {
     "data": {
      "text/plain": [
       "array(['Petrol', 'Diesel', 'Hybrid/CNG'], dtype=object)"
      ]
     },
     "execution_count": 171,
     "metadata": {},
     "output_type": "execute_result"
    }
   ],
   "source": [
    "usedCar_df['FuelType'].unique()"
   ]
  },
  {
   "cell_type": "code",
   "execution_count": 173,
   "metadata": {},
   "outputs": [
    {
     "data": {
      "text/html": [
       "<div>\n",
       "<style scoped>\n",
       "    .dataframe tbody tr th:only-of-type {\n",
       "        vertical-align: middle;\n",
       "    }\n",
       "\n",
       "    .dataframe tbody tr th {\n",
       "        vertical-align: top;\n",
       "    }\n",
       "\n",
       "    .dataframe thead th {\n",
       "        text-align: right;\n",
       "    }\n",
       "</style>\n",
       "<table border=\"1\" class=\"dataframe\">\n",
       "  <thead>\n",
       "    <tr style=\"text-align: right;\">\n",
       "      <th></th>\n",
       "      <th>Brand</th>\n",
       "      <th>model</th>\n",
       "      <th>Year</th>\n",
       "      <th>Age</th>\n",
       "      <th>kmDriven</th>\n",
       "      <th>Transmission</th>\n",
       "      <th>Owner</th>\n",
       "      <th>FuelType</th>\n",
       "      <th>PostedDate</th>\n",
       "      <th>AdditionInfo</th>\n",
       "      <th>AskPrice</th>\n",
       "    </tr>\n",
       "  </thead>\n",
       "  <tbody>\n",
       "    <tr>\n",
       "      <th>0</th>\n",
       "      <td>Honda</td>\n",
       "      <td>City</td>\n",
       "      <td>2001</td>\n",
       "      <td>23</td>\n",
       "      <td>98000</td>\n",
       "      <td>Manual</td>\n",
       "      <td>second</td>\n",
       "      <td>Petrol</td>\n",
       "      <td>Nov-24</td>\n",
       "      <td>Honda City v teck in mint condition, valid gen...</td>\n",
       "      <td>195000</td>\n",
       "    </tr>\n",
       "    <tr>\n",
       "      <th>1</th>\n",
       "      <td>Toyota</td>\n",
       "      <td>Innova</td>\n",
       "      <td>2009</td>\n",
       "      <td>15</td>\n",
       "      <td>190000</td>\n",
       "      <td>Manual</td>\n",
       "      <td>second</td>\n",
       "      <td>Diesel</td>\n",
       "      <td>Jul-24</td>\n",
       "      <td>Toyota Innova 2.5 G (Diesel) 7 Seater, 2009, D...</td>\n",
       "      <td>375000</td>\n",
       "    </tr>\n",
       "    <tr>\n",
       "      <th>2</th>\n",
       "      <td>Volkswagen</td>\n",
       "      <td>VentoTest</td>\n",
       "      <td>2010</td>\n",
       "      <td>14</td>\n",
       "      <td>77246</td>\n",
       "      <td>Manual</td>\n",
       "      <td>first</td>\n",
       "      <td>Diesel</td>\n",
       "      <td>Nov-24</td>\n",
       "      <td>Volkswagen Vento 2010-2013 Diesel Breeze, 2010...</td>\n",
       "      <td>184999</td>\n",
       "    </tr>\n",
       "    <tr>\n",
       "      <th>3</th>\n",
       "      <td>Maruti Suzuki</td>\n",
       "      <td>Swift</td>\n",
       "      <td>2017</td>\n",
       "      <td>7</td>\n",
       "      <td>83500</td>\n",
       "      <td>Manual</td>\n",
       "      <td>second</td>\n",
       "      <td>Diesel</td>\n",
       "      <td>Nov-24</td>\n",
       "      <td>Maruti Suzuki Swift 2017 Diesel Good Condition</td>\n",
       "      <td>565000</td>\n",
       "    </tr>\n",
       "    <tr>\n",
       "      <th>4</th>\n",
       "      <td>Maruti Suzuki</td>\n",
       "      <td>Baleno</td>\n",
       "      <td>2019</td>\n",
       "      <td>5</td>\n",
       "      <td>45000</td>\n",
       "      <td>Automatic</td>\n",
       "      <td>first</td>\n",
       "      <td>Petrol</td>\n",
       "      <td>Nov-24</td>\n",
       "      <td>Maruti Suzuki Baleno Alpha CVT, 2019, Petrol</td>\n",
       "      <td>685000</td>\n",
       "    </tr>\n",
       "  </tbody>\n",
       "</table>\n",
       "</div>"
      ],
      "text/plain": [
       "           Brand      model  Year  Age  kmDriven Transmission   Owner  \\\n",
       "0          Honda       City  2001   23     98000       Manual  second   \n",
       "1         Toyota     Innova  2009   15    190000       Manual  second   \n",
       "2     Volkswagen  VentoTest  2010   14     77246       Manual   first   \n",
       "3  Maruti Suzuki      Swift  2017    7     83500       Manual  second   \n",
       "4  Maruti Suzuki     Baleno  2019    5     45000    Automatic   first   \n",
       "\n",
       "  FuelType PostedDate                                       AdditionInfo  \\\n",
       "0   Petrol     Nov-24  Honda City v teck in mint condition, valid gen...   \n",
       "1   Diesel     Jul-24  Toyota Innova 2.5 G (Diesel) 7 Seater, 2009, D...   \n",
       "2   Diesel     Nov-24  Volkswagen Vento 2010-2013 Diesel Breeze, 2010...   \n",
       "3   Diesel     Nov-24     Maruti Suzuki Swift 2017 Diesel Good Condition   \n",
       "4   Petrol     Nov-24       Maruti Suzuki Baleno Alpha CVT, 2019, Petrol   \n",
       "\n",
       "   AskPrice  \n",
       "0    195000  \n",
       "1    375000  \n",
       "2    184999  \n",
       "3    565000  \n",
       "4    685000  "
      ]
     },
     "execution_count": 173,
     "metadata": {},
     "output_type": "execute_result"
    }
   ],
   "source": [
    "usedCar_df.head()"
   ]
  },
  {
   "cell_type": "code",
   "execution_count": 180,
   "metadata": {},
   "outputs": [
    {
     "data": {
      "text/plain": [
       "array(['Honda', 'Toyota', 'Volkswagen', 'Maruti Suzuki', 'BMW', 'Ford',\n",
       "       'Kia', 'Mercedes-Benz', 'Hyundai', 'Audi', 'Renault', 'MG',\n",
       "       'Volvo', 'Skoda', 'Tata', 'Mahindra', 'Mini', 'Land Rover', 'Jeep',\n",
       "       'Chevrolet', 'Jaguar', 'Fiat', 'Aston Martin', 'Porsche', 'Nissan',\n",
       "       'Force', 'Mitsubishi', 'Lexus', 'Isuzu', 'Datsun', 'Ambassador',\n",
       "       'Rolls-Royce', 'Bajaj', 'Opel', 'Ashok', 'Bentley', 'Ssangyong',\n",
       "       'Maserati'], dtype=object)"
      ]
     },
     "execution_count": 180,
     "metadata": {},
     "output_type": "execute_result"
    }
   ],
   "source": [
    "usedCar_df['Brand'].unique()"
   ]
  },
  {
   "cell_type": "code",
   "execution_count": 174,
   "metadata": {},
   "outputs": [],
   "source": [
    "usedCar_df.to_csv('cleanedcar.csv')"
   ]
  },
  {
   "cell_type": "markdown",
   "metadata": {},
   "source": [
    "MODEL"
   ]
  },
  {
   "cell_type": "code",
   "execution_count": 149,
   "metadata": {},
   "outputs": [
    {
     "name": "stdout",
     "output_type": "stream",
     "text": [
      "Mean Squared Error: 615099356482.74\n",
      "R² Score: 0.73\n",
      "\n",
      "Predicted Car Price: ₹808049\n"
     ]
    }
   ],
   "source": [
    "import pandas as pd\n",
    "from sklearn.model_selection import train_test_split\n",
    "from sklearn.preprocessing import OneHotEncoder\n",
    "from sklearn.compose import ColumnTransformer\n",
    "from sklearn.pipeline import Pipeline\n",
    "from sklearn.ensemble import RandomForestRegressor\n",
    "from sklearn.metrics import mean_squared_error, r2_score\n",
    "import joblib\n",
    "\n",
    "# Load dataset\n",
    "df = pd.read_csv(\"cleanedcar.csv\")\n",
    "\n",
    "# Drop unnecessary columns\n",
    "df = df.drop(columns=[\"Unnamed: 0\", \"AdditionInfo\", \"PostedDate\"])\n",
    "\n",
    "# Define features and target\n",
    "X = df.drop(columns=[\"AskPrice\"])\n",
    "y = df[\"AskPrice\"]\n",
    "\n",
    "# Identify categorical and numerical columns\n",
    "categorical_cols = [\"Brand\", \"model\", \"Transmission\", \"Owner\", \"FuelType\"]\n",
    "numerical_cols = [\"Year\", \"Age\", \"kmDriven\"]\n",
    "\n",
    "# Create preprocessing pipeline\n",
    "preprocessor = ColumnTransformer(\n",
    "    transformers=[\n",
    "        (\"num\", \"passthrough\", numerical_cols),\n",
    "        (\"cat\", OneHotEncoder(handle_unknown=\"ignore\"), categorical_cols)\n",
    "    ]\n",
    ")\n",
    "\n",
    "# Create the full pipeline with a Random Forest model\n",
    "model = Pipeline(steps=[\n",
    "    (\"preprocessor\", preprocessor),\n",
    "    (\"regressor\", RandomForestRegressor(random_state=42))\n",
    "])\n",
    "\n",
    "# Split the data\n",
    "X_train, X_test, y_train, y_test = train_test_split(X, y, test_size=0.2, random_state=42)\n",
    "\n",
    "# Train the model\n",
    "model.fit(X_train, y_train)\n",
    "\n",
    "# Evaluate the model\n",
    "y_pred = model.predict(X_test)\n",
    "mse = mean_squared_error(y_test, y_pred)\n",
    "r2 = r2_score(y_test, y_pred)\n",
    "\n",
    "print(f\"Mean Squared Error: {mse:.2f}\")\n",
    "print(f\"R² Score: {r2:.2f}\")\n",
    "\n",
    "# Save the model\n",
    "joblib.dump(model, \"car_price_predictor_model.pkl\")\n",
    "\n",
    "# --- Sample Prediction ---\n",
    "sample_data = pd.DataFrame([{\n",
    "    \"Brand\": \"Skoda\",\n",
    "    \"model\": \"Octavia\",\n",
    "    \"Year\": 2016,\n",
    "    \"Age\": 8,\n",
    "    \"kmDriven\": 450000,\n",
    "    \"Transmission\": \"Automatic\",\n",
    "    \"Owner\": \"second\",\n",
    "    \"FuelType\": \"Petrol\"\n",
    "}])\n",
    "\n",
    "# Load model and predict\n",
    "loaded_model = joblib.load(\"car_price_predictor_model.pkl\")\n",
    "predicted_price = loaded_model.predict(sample_data)\n",
    "print(f\"\\nPredicted Car Price: ₹{int(predicted_price[0])}\")\n",
    "\n"
   ]
  },
  {
   "cell_type": "markdown",
   "metadata": {},
   "source": []
  },
  {
   "cell_type": "code",
   "execution_count": null,
   "metadata": {},
   "outputs": [],
   "source": []
  }
 ],
 "metadata": {
  "kernelspec": {
   "display_name": "base",
   "language": "python",
   "name": "python3"
  },
  "language_info": {
   "codemirror_mode": {
    "name": "ipython",
    "version": 3
   },
   "file_extension": ".py",
   "mimetype": "text/x-python",
   "name": "python",
   "nbconvert_exporter": "python",
   "pygments_lexer": "ipython3",
   "version": "3.12.7"
  }
 },
 "nbformat": 4,
 "nbformat_minor": 2
}
